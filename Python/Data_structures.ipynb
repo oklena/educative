{
 "cells": [
  {
   "cell_type": "markdown",
   "metadata": {},
   "source": [
    "1. Remove even integers from a list"
   ]
  },
  {
   "cell_type": "code",
   "execution_count": 16,
   "metadata": {},
   "outputs": [
    {
     "data": {
      "text/plain": [
       "[1, 5, 3]"
      ]
     },
     "execution_count": 16,
     "metadata": {},
     "output_type": "execute_result"
    }
   ],
   "source": [
    "my_list = [1,2,4,5,10,6,3]\n",
    "\n",
    "def remove_even(list):\n",
    "    out_list = []\n",
    "    for i in list:\n",
    "        if i % 2 != 0:\n",
    "            out_list.append(i)\n",
    "    return out_list\n",
    "\n",
    "# return [item for item in list if item %2 != 0]\n",
    "remove_even(my_list)"
   ]
  },
  {
   "cell_type": "markdown",
   "metadata": {},
   "source": [
    "2. Merge two sorted lists"
   ]
  },
  {
   "cell_type": "code",
   "execution_count": 3,
   "metadata": {},
   "outputs": [],
   "source": [
    "list1 = [1,3,4,5]\n",
    "list2 = [2,6,7,8]"
   ]
  },
  {
   "cell_type": "code",
   "execution_count": 5,
   "metadata": {},
   "outputs": [],
   "source": [
    "def merge_lists(lst1, lst2):\n",
    "    joined_list = [*lst1, *lst2]\n",
    "    joined_list.sort()\n",
    "    return joined_list"
   ]
  },
  {
   "cell_type": "code",
   "execution_count": 6,
   "metadata": {},
   "outputs": [
    {
     "data": {
      "text/plain": [
       "[1, 2, 3, 4, 5, 6, 7, 8]"
      ]
     },
     "execution_count": 6,
     "metadata": {},
     "output_type": "execute_result"
    }
   ],
   "source": [
    "merge_lists(list1, list2)"
   ]
  },
  {
   "cell_type": "code",
   "execution_count": 7,
   "metadata": {},
   "outputs": [],
   "source": [
    "def merge_lists1(lst1, lst2):\n",
    "    ind1 = 0\n",
    "    ind2 = 0\n",
    "    while(ind1 < len(lst1) and ind2 < len(lst2)):\n",
    "        if(lst1[ind1] > lst2[ind2]):\n",
    "            lst1.insert(ind1, lst2[ind2])\n",
    "            ind1 += 1\n",
    "            ind2 += 1\n",
    "        else:\n",
    "            ind1 += 1\n",
    "\n",
    "    if(ind2 < len(lst2)):\n",
    "        lst1.extend(lst2[ind2:])\n",
    "    return lst1"
   ]
  },
  {
   "cell_type": "code",
   "execution_count": 8,
   "metadata": {},
   "outputs": [
    {
     "data": {
      "text/plain": [
       "[1, 2, 3, 4, 5, 6, 7, 8]"
      ]
     },
     "execution_count": 8,
     "metadata": {},
     "output_type": "execute_result"
    }
   ],
   "source": [
    "merge_lists1(list1, list2)"
   ]
  },
  {
   "cell_type": "markdown",
   "metadata": {},
   "source": [
    "3. List of products of all elements"
   ]
  },
  {
   "cell_type": "code",
   "execution_count": 9,
   "metadata": {},
   "outputs": [],
   "source": [
    "def find_product(lst):\n",
    "    left = 1\n",
    "    product = []\n",
    "    for ele in lst:\n",
    "        product.append(left)\n",
    "        left = left * ele\n",
    "\n",
    "    right = 1\n",
    "    for i in range(len(lst)-1, -1, -1):\n",
    "        product[i] = product[i] * right\n",
    "        right = right * lst[i]\n",
    "\n",
    "    return product\n"
   ]
  },
  {
   "cell_type": "markdown",
   "metadata": {},
   "source": [
    "4. Find minimum value in a list"
   ]
  },
  {
   "cell_type": "code",
   "execution_count": 30,
   "metadata": {},
   "outputs": [],
   "source": [
    "arr = [9,2,3,6]\n",
    "arr = []"
   ]
  },
  {
   "cell_type": "code",
   "execution_count": 34,
   "metadata": {},
   "outputs": [],
   "source": [
    "def find_minimum(lst):\n",
    "    if (len(lst) == 0):\n",
    "        return None\n",
    "    \n",
    "    current_min = lst[0]\n",
    "    for ele in lst:\n",
    "        if ele < current_min:\n",
    "            current_min = ele\n",
    "    return current_min"
   ]
  },
  {
   "cell_type": "code",
   "execution_count": 36,
   "metadata": {},
   "outputs": [],
   "source": [
    "find_minimum(arr)"
   ]
  },
  {
   "cell_type": "markdown",
   "metadata": {},
   "source": [
    "5. Find second maximum value in a list"
   ]
  },
  {
   "cell_type": "code",
   "execution_count": 65,
   "metadata": {},
   "outputs": [],
   "source": [
    "lst = [1,2,4,4]\n",
    "lst = [9, 2, 3, 6]"
   ]
  },
  {
   "cell_type": "code",
   "execution_count": 66,
   "metadata": {},
   "outputs": [],
   "source": [
    "def find_second_maximum(lst):\n",
    "    \n",
    "    first_max = float('-inf')\n",
    "    second_max = float('-inf')\n",
    "    for ele in lst:\n",
    "        if ele > first_max:\n",
    "            first_max = ele\n",
    "    for ele in lst:\n",
    "        if ele != first_max and ele > second_max:\n",
    "            second_max = ele\n",
    "        \n",
    "    return second_max"
   ]
  },
  {
   "cell_type": "code",
   "execution_count": 67,
   "metadata": {},
   "outputs": [
    {
     "data": {
      "text/plain": [
       "6"
      ]
     },
     "execution_count": 67,
     "metadata": {},
     "output_type": "execute_result"
    }
   ],
   "source": [
    "find_second_maximum(lst)"
   ]
  },
  {
   "cell_type": "code",
   "execution_count": null,
   "metadata": {},
   "outputs": [],
   "source": []
  }
 ],
 "metadata": {
  "kernelspec": {
   "display_name": "python(illumidesk)",
   "language": "python",
   "name": "2020-10-illumidesk-env"
  },
  "language_info": {
   "codemirror_mode": {
    "name": "ipython",
    "version": 3
   },
   "file_extension": ".py",
   "mimetype": "text/x-python",
   "name": "python",
   "nbconvert_exporter": "python",
   "pygments_lexer": "ipython3",
   "version": "3.8.5"
  }
 },
 "nbformat": 4,
 "nbformat_minor": 4
}
