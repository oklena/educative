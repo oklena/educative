{
 "cells": [
  {
   "cell_type": "markdown",
   "metadata": {},
   "source": [
    "1. Remove even integers from a list"
   ]
  },
  {
   "cell_type": "code",
   "execution_count": 16,
   "metadata": {},
   "outputs": [
    {
     "data": {
      "text/plain": [
       "[1, 5, 3]"
      ]
     },
     "execution_count": 16,
     "metadata": {},
     "output_type": "execute_result"
    }
   ],
   "source": [
    "my_list = [1,2,4,5,10,6,3]\n",
    "\n",
    "def remove_even(list):\n",
    "    out_list = []\n",
    "    for i in list:\n",
    "        if i % 2 != 0:\n",
    "            out_list.append(i)\n",
    "    return out_list\n",
    "\n",
    "# return [item for item in list if item %2 != 0]\n",
    "remove_even(my_list)"
   ]
  },
  {
   "cell_type": "markdown",
   "metadata": {},
   "source": [
    "2. Merge two sorted lists"
   ]
  },
  {
   "cell_type": "code",
   "execution_count": 17,
   "metadata": {},
   "outputs": [],
   "source": [
    "list1 = [1,3,4,5]\n",
    "list2 = [2,6,7,8]"
   ]
  },
  {
   "cell_type": "code",
   "execution_count": 18,
   "metadata": {},
   "outputs": [],
   "source": [
    "def merge_lists(lst1, lst2):\n",
    "    arr = []\n",
    "    for i in lst1:\n",
    "        for j in lst2:\n",
    "            if i < j:\n",
    "                arr.append(i)\n",
    "            else:\n",
    "                arr.append(j)\n",
    "    return arr\n",
    "        \n",
    "    "
   ]
  },
  {
   "cell_type": "code",
   "execution_count": 19,
   "metadata": {},
   "outputs": [
    {
     "data": {
      "text/plain": [
       "[1, 1, 1, 1, 2, 3, 3, 3, 2, 4, 4, 4, 2, 5, 5, 5]"
      ]
     },
     "execution_count": 19,
     "metadata": {},
     "output_type": "execute_result"
    }
   ],
   "source": [
    "merge_lists(list1, list2)"
   ]
  },
  {
   "cell_type": "code",
   "execution_count": null,
   "metadata": {},
   "outputs": [],
   "source": []
  }
 ],
 "metadata": {
  "kernelspec": {
   "display_name": "python(illumidesk)",
   "language": "python",
   "name": "2020-10-illumidesk-env"
  },
  "language_info": {
   "codemirror_mode": {
    "name": "ipython",
    "version": 3
   },
   "file_extension": ".py",
   "mimetype": "text/x-python",
   "name": "python",
   "nbconvert_exporter": "python",
   "pygments_lexer": "ipython3",
   "version": "3.8.5"
  }
 },
 "nbformat": 4,
 "nbformat_minor": 4
}
