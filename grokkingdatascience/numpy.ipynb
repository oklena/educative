{
 "cells": [
  {
   "cell_type": "code",
   "execution_count": 7,
   "metadata": {},
   "outputs": [],
   "source": [
    "# Numpy exercise\n",
    "import numpy as np\n",
    "\n",
    "Z = np.zeros(10)\n",
    "arr = np.arange(10)\n",
    "arr1 = np.random.random((3, 3, 3))"
   ]
  },
  {
   "cell_type": "code",
   "execution_count": 21,
   "metadata": {},
   "outputs": [
    {
     "name": "stdout",
     "output_type": "stream",
     "text": [
      "[[[0.4644614  0.12544153 0.86537121]\n",
      "  [0.29614967 0.32350728 0.65784634]\n",
      "  [0.82849854 0.03461875 0.46013015]]\n",
      "\n",
      " [[0.98575819 0.56336514 0.0542638 ]\n",
      "  [0.03781877 0.18145674 0.52239371]\n",
      "  [0.70415459 0.86810864 0.35249814]]\n",
      "\n",
      " [[0.14729575 0.83802991 0.52217389]\n",
      "  [0.81409788 0.0705333  0.47171325]\n",
      "  [0.38098062 0.13778358 0.48372943]]]\n"
     ]
    }
   ],
   "source": [
    "arr1 = np.random.random((3, 3, 3))\n",
    "print(arr1)"
   ]
  },
  {
   "cell_type": "code",
   "execution_count": 22,
   "metadata": {},
   "outputs": [],
   "source": [
    "arr4 = np.random.random((10, 10))\n",
    "min_val = arr4.min()\n",
    "max_val = arr4.max()"
   ]
  },
  {
   "cell_type": "code",
   "execution_count": 9,
   "metadata": {},
   "outputs": [],
   "source": [
    "arr5 = np.arange(1, 10, 1)\n",
    "grid = np.reshape(arr, (3,3))"
   ]
  },
  {
   "cell_type": "code",
   "execution_count": 23,
   "metadata": {},
   "outputs": [
    {
     "name": "stdout",
     "output_type": "stream",
     "text": [
      "[ 0  1  2  3  4  5  6  7  8 -1]\n"
     ]
    }
   ],
   "source": [
    "arr6 = np.arange(10)\n",
    "arr6[arr6.argmax()] = -1\n",
    "print(arr6)"
   ]
  },
  {
   "cell_type": "code",
   "execution_count": 30,
   "metadata": {},
   "outputs": [
    {
     "name": "stdout",
     "output_type": "stream",
     "text": [
      "[[6 7 8]\n",
      " [3 4 5]\n",
      " [0 1 2]]\n"
     ]
    }
   ],
   "source": [
    "arr7 = np.arange(9).reshape(3,3)\n",
    "arr7 = arr7[:: -1]\n",
    "print(arr7)"
   ]
  },
  {
   "cell_type": "code",
   "execution_count": 53,
   "metadata": {},
   "outputs": [
    {
     "name": "stdout",
     "output_type": "stream",
     "text": [
      "[[0.44163661 0.81595542 0.42266012 0.75602454 0.09320499 0.56484089\n",
      "  0.20810162 0.06646434 0.36935098 0.91074178]\n",
      " [0.61871439 0.36819823 0.9885344  0.50830209 0.96793624 0.13308982\n",
      "  0.42036724 0.69478455 0.01873418 0.2685761 ]\n",
      " [0.31891718 0.81386012 0.37618264 0.12870119 0.94828357 0.43083109\n",
      "  0.16678221 0.28098815 0.51182012 0.59951393]]\n",
      "[[-0.02326152  0.35105729 -0.04223801  0.29112641 -0.37169314  0.09994276\n",
      "  -0.25679651 -0.39843379 -0.09554715  0.44584365]\n",
      " [ 0.11999067 -0.13052549  0.48981068  0.00957837  0.46921252 -0.36563391\n",
      "  -0.07835648  0.19606083 -0.47998955 -0.23014763]\n",
      " [-0.13867084  0.3562721  -0.08140538 -0.32888683  0.49069555 -0.02675693\n",
      "  -0.29080581 -0.17659987  0.05423211  0.14192591]]\n"
     ]
    },
    {
     "data": {
      "text/plain": [
       "array([[-0.02326152,  0.35105729, -0.04223801,  0.29112641, -0.37169314,\n",
       "         0.09994276, -0.25679651, -0.39843379, -0.09554715,  0.44584365],\n",
       "       [ 0.11999067, -0.13052549,  0.48981068,  0.00957837,  0.46921252,\n",
       "        -0.36563391, -0.07835648,  0.19606083, -0.47998955, -0.23014763],\n",
       "       [-0.13867084,  0.3562721 , -0.08140538, -0.32888683,  0.49069555,\n",
       "        -0.02675693, -0.29080581, -0.17659987,  0.05423211,  0.14192591]])"
      ]
     },
     "execution_count": 53,
     "metadata": {},
     "output_type": "execute_result"
    }
   ],
   "source": [
    "arr8 = np.random.rand(3, 10)\n",
    "print(arr8)\n",
    "\n",
    "grid = arr8.mean(axis=1, keepdims=True)\n",
    "transformed = np.subtract(arr8, grid)\n",
    "print(transformed)\n",
    "\n",
    "transformed_arr8 = arr8 - arr8.mean(axis=1, keepdims=True)\n",
    "transformed_arr8"
   ]
  },
  {
   "cell_type": "code",
   "execution_count": null,
   "metadata": {},
   "outputs": [],
   "source": []
  }
 ],
 "metadata": {
  "kernelspec": {
   "display_name": "python(illumidesk)",
   "language": "python",
   "name": "2020-10-illumidesk-env"
  },
  "language_info": {
   "codemirror_mode": {
    "name": "ipython",
    "version": 3
   },
   "file_extension": ".py",
   "mimetype": "text/x-python",
   "name": "python",
   "nbconvert_exporter": "python",
   "pygments_lexer": "ipython3",
   "version": "3.8.5"
  }
 },
 "nbformat": 4,
 "nbformat_minor": 4
}
